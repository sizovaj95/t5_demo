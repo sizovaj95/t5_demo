{
 "cells": [
  {
   "cell_type": "code",
   "execution_count": 5,
   "id": "0ebd192b",
   "metadata": {},
   "outputs": [],
   "source": [
    "import torch\n",
    "from transformers import T5Tokenizer"
   ]
  },
  {
   "cell_type": "code",
   "execution_count": 7,
   "id": "6bf6a633",
   "metadata": {},
   "outputs": [],
   "source": [
    "model_name = \"31_model_w_prefix_50_output.pt\"\n",
    "model = torch.load(f\"models/{model_name}\")\n",
    "model.eval();\n",
    "tokenizer = T5Tokenizer.from_pretrained(\"t5-base\", model_max_length=1024)"
   ]
  },
  {
   "cell_type": "code",
   "execution_count": 33,
   "id": "48f9a2ac",
   "metadata": {},
   "outputs": [],
   "source": [
    "def get_summary(text: str) -> str:\n",
    "    text = \"summarize: \" + text\n",
    "    encoded_text = tokenizer(text, return_tensors=\"pt\")\n",
    "    output_ids = model.generate(encoded_text.input_ids, \n",
    "                                attention_mask=encoded_text.attention_mask, \n",
    "                                max_length=128)\n",
    "    output_text = tokenizer.decode(output_ids[0], skip_special_tokens=True, clean_up_tokenization_spaces=True)\n",
    "    return output_text"
   ]
  },
  {
   "cell_type": "code",
   "execution_count": 36,
   "id": "1ff9c5f8",
   "metadata": {},
   "outputs": [],
   "source": [
    "text = \\\n",
    "\"\"\"\n",
    "Great upright lightweight hoover and good price. Suction power really good, plus lays flat when cleaning under furniture. Handheld section is also lightweight and bonus with the holder for the attachments that sits on the pole. I've only rated it 4 overall mainly because I do find I have to pull out all the hair from the vacuum head each use, to keep it working well. You also get a spare hepa filter with this. Battery life is pretty good, guess it depends how much time you spend vacuuming, but charges well. Overall would buy this again.\n",
    "\"\"\"\n",
    "text = text.replace('\\n', '').strip()\n"
   ]
  },
  {
   "cell_type": "code",
   "execution_count": 37,
   "id": "231a140f",
   "metadata": {},
   "outputs": [],
   "source": [
    "summarized_text = get_summary(text)\n",
    "len_original = len(text.split(' '))\n",
    "len_summary = len(summarized_text.split(' '))"
   ]
  },
  {
   "cell_type": "code",
   "execution_count": 38,
   "id": "4186859b",
   "metadata": {},
   "outputs": [
    {
     "name": "stdout",
     "output_type": "stream",
     "text": [
      "Original text: 97 words\n",
      "Summarized text: 31 words\n",
      "Predicted summary: \n",
      "The upright vacuum is lightweight and has good suction power. It also has a holder for attachments. The battery life is good, but it charges well. Overall, would buy this again.\n"
     ]
    }
   ],
   "source": [
    "print(f\"Original text: {len_original} words\")\n",
    "print(f\"Summarized text: {len_summary} words\")\n",
    "print(f\"Predicted summary: \\n{summarized_text}\")"
   ]
  },
  {
   "cell_type": "code",
   "execution_count": null,
   "id": "85b24655",
   "metadata": {},
   "outputs": [],
   "source": []
  }
 ],
 "metadata": {
  "kernelspec": {
   "display_name": "t5demo",
   "language": "python",
   "name": "t5demo"
  },
  "language_info": {
   "codemirror_mode": {
    "name": "ipython",
    "version": 3
   },
   "file_extension": ".py",
   "mimetype": "text/x-python",
   "name": "python",
   "nbconvert_exporter": "python",
   "pygments_lexer": "ipython3",
   "version": "3.9.0"
  }
 },
 "nbformat": 4,
 "nbformat_minor": 5
}
