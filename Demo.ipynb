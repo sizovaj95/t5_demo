{
 "cells": [
  {
   "cell_type": "code",
   "execution_count": 1,
   "id": "0ebd192b",
   "metadata": {},
   "outputs": [],
   "source": [
    "import torch\n",
    "from transformers import T5Tokenizer\n",
    "import common as com\n",
    "from torch.utils.data import DataLoader\n",
    "from IPython.display import Markdown, display\n",
    "from rouge_score import rouge_scorer"
   ]
  },
  {
   "cell_type": "code",
   "execution_count": 3,
   "id": "f85c888d",
   "metadata": {},
   "outputs": [],
   "source": [
    "def printmd(string):\n",
    "    display(Markdown(string))"
   ]
  },
  {
   "cell_type": "code",
   "execution_count": 4,
   "id": "6bf6a633",
   "metadata": {},
   "outputs": [],
   "source": [
    "model_name = \"31_model_w_prefix_50_output.pt\"\n",
    "model = torch.load(f\"models/{model_name}\")\n",
    "model.eval();\n",
    "tokenizer = T5Tokenizer.from_pretrained(\"t5-base\", model_max_length=com.MAX_INPUT_LEN)\n",
    "scorer = rouge_scorer.RougeScorer(['rouge1', 'rougeL'], use_stemmer=True)"
   ]
  },
  {
   "cell_type": "code",
   "execution_count": 5,
   "id": "48f9a2ac",
   "metadata": {},
   "outputs": [],
   "source": [
    "def get_summary(text: str) -> str:\n",
    "    text = \"summarize: \" + text\n",
    "    encoded_text = tokenizer(text, return_tensors=\"pt\")\n",
    "    output_ids = model.generate(encoded_text.input_ids, \n",
    "                                attention_mask=encoded_text.attention_mask, \n",
    "                                max_length=com.MAX_OUTPUT_LEN)\n",
    "    output_text = tokenizer.decode(output_ids[0], skip_special_tokens=True, clean_up_tokenization_spaces=True)\n",
    "    return output_text"
   ]
  },
  {
   "cell_type": "code",
   "execution_count": 6,
   "id": "142b5ac2",
   "metadata": {},
   "outputs": [],
   "source": [
    "_, test_data = com.load_and_maybe_split_data(com.TRAIN_FRACTION, com.RANDOM_SEED)\n",
    "test_data = com.ReviewsDataset(test_data, tokenizer, com.MAX_INPUT_LEN, com.MAX_OUTPUT_LEN)\n",
    "test_loader = DataLoader(test_data, batch_size=1, shuffle=False)"
   ]
  },
  {
   "cell_type": "code",
   "execution_count": 7,
   "id": "67de4fac",
   "metadata": {},
   "outputs": [],
   "source": [
    "predictions = []\n",
    "targets = []\n",
    "texts = []\n",
    "for data in test_loader:\n",
    "    target_ids = data['output_ids']\n",
    "    input_ids = data['input_ids']\n",
    "    input_mask = data['input_mask']\n",
    "    input_text = data['review_text']\n",
    "\n",
    "    predicted_ids = model.generate(\n",
    "        input_ids=input_ids,\n",
    "        attention_mask=input_mask,\n",
    "        max_length=com.MAX_OUTPUT_LEN\n",
    "    )\n",
    "    predictions_ = [tokenizer.decode(g, skip_special_tokens=True, clean_up_tokenization_spaces=True)\n",
    "                    for g in predicted_ids]\n",
    "    targets_ = [tokenizer.decode(t, skip_special_tokens=True, clean_up_tokenization_spaces=True) for t in\n",
    "                target_ids]\n",
    "\n",
    "    predictions.extend(predictions_)\n",
    "    targets.extend(targets_)\n",
    "    texts.extend(input_text)"
   ]
  },
  {
   "cell_type": "code",
   "execution_count": 8,
   "id": "526e387b",
   "metadata": {},
   "outputs": [],
   "source": [
    "index_list = iter(range(len(predictions)))"
   ]
  },
  {
   "cell_type": "code",
   "execution_count": 9,
   "id": "268b1f4d",
   "metadata": {},
   "outputs": [
    {
     "data": {
      "text/plain": [
       "True"
      ]
     },
     "execution_count": 9,
     "metadata": {},
     "output_type": "execute_result"
    }
   ],
   "source": [
    "len(predictions) == len(targets) == len(texts)"
   ]
  },
  {
   "cell_type": "code",
   "execution_count": 55,
   "id": "015529a1",
   "metadata": {},
   "outputs": [
    {
     "data": {
      "text/markdown": [
       "**Original review**: On full charge you need to have this on the highest power to pick up which means the charge runs out very quickly. I brought this for my mum with Parkinson’s thinking it would be ideal but unfortunately I have only just visited her so I’m over my return period otherwise it would have been going straight back! (**58**)\n"
      ],
      "text/plain": [
       "<IPython.core.display.Markdown object>"
      ]
     },
     "metadata": {},
     "output_type": "display_data"
    },
    {
     "data": {
      "text/markdown": [
       "**Target summary**: The vacuum's short battery life and weak suction on lower power settings make it inconvenient. Not suitable for users with specific needs, and missed the return window. (**27**)\n"
      ],
      "text/plain": [
       "<IPython.core.display.Markdown object>"
      ]
     },
     "metadata": {},
     "output_type": "display_data"
    },
    {
     "data": {
      "text/markdown": [
       "**Gererated summary**: The charger is on the highest power to pick up which means the charge runs out very quickly. I brought this for my mum with Parkinson’s thinking it would be ideal but unfortunately I have only just visited her so I’m over my return period. (**45**)\n"
      ],
      "text/plain": [
       "<IPython.core.display.Markdown object>"
      ]
     },
     "metadata": {},
     "output_type": "display_data"
    },
    {
     "name": "stdout",
     "output_type": "stream",
     "text": [
      "Rouge1 F1 vscore: 0.24\n",
      "\n",
      "RougeL F1 vscore: 0.16\n",
      "\n"
     ]
    }
   ],
   "source": [
    "i = next(index_list)\n",
    "\n",
    "target_sum = targets[i]\n",
    "generated_sum = predictions[i]\n",
    "review = texts[i]\n",
    "\n",
    "len_original = len(review.split(' '))\n",
    "len_tar_summary = len(target_sum.split(' '))\n",
    "len_gen_summary = len(generated_sum.split(' '))\n",
    "scores = scorer.score(target_sum, generated_sum)\n",
    "\n",
    "printmd(f\"**Original review**: {review} (**{len_original}**)\\n\")\n",
    "printmd(f\"**Target summary**: {target_sum} (**{len_tar_summary}**)\\n\")\n",
    "printmd(f\"**Gererated summary**: {generated_sum} (**{len_gen_summary}**)\\n\")\n",
    "print(\"Rouge1 F1 vscore: {0:.2f}\\n\".format(scores['rouge1'].fmeasure))\n",
    "print(\"RougeL F1 vscore: {0:.2f}\\n\".format(scores['rougeL'].fmeasure))\n",
    "\n"
   ]
  },
  {
   "cell_type": "code",
   "execution_count": 21,
   "id": "93dad397",
   "metadata": {},
   "outputs": [],
   "source": [
    "def summarize_one_text(text: str) -> str:\n",
    "    encoded = tokenizer(text, max_length=com.MAX_INPUT_LEN, pad_to_max_length=True,\n",
    "                                       truncation=True,\n",
    "                                       padding=\"max_length\", return_tensors=\"pt\")\n",
    "    pred_ids = model.generate(\n",
    "        input_ids=encoded.input_ids,\n",
    "        attention_mask=encoded.attention_mask,\n",
    "        max_length=com.MAX_OUTPUT_LEN)\n",
    "    pred_text = tokenizer.decode(pred_ids[0], skip_special_tokens=True, clean_up_tokenization_spaces=True)\n",
    "    return pred_text\n",
    "                "
   ]
  },
  {
   "cell_type": "code",
   "execution_count": 22,
   "id": "198c0a26",
   "metadata": {},
   "outputs": [
    {
     "name": "stdout",
     "output_type": "stream",
     "text": [
      "I wanted something more affordable. it's very light and has lots of functions. it's very light and has lots of functions. The only downside is that the battery lasts about half an hour and the tank fills up quickly.. The battery life is limited and the tank fills up quickly, so it's better for a small home.\n"
     ]
    }
   ],
   "source": [
    "text = \"I got this as I couldn't afford a higher end vacuum and am pleasantly surprised by how useful it is. It's extremely light and has lots of functions to get into different spaces. The downside is that the battery only lasts about half an hour and the tank fills up quickly, so it's better for a small home.\"\n",
    "summary = summarize_one_text(text)\n",
    "printmd(summary)"
   ]
  },
  {
   "cell_type": "code",
   "execution_count": 23,
   "id": "2d2b3247",
   "metadata": {},
   "outputs": [
    {
     "data": {
      "text/markdown": [
       "I wanted something more affordable. it's very light and has lots of functions. it's very light and has lots of functions. The only downside is that the battery lasts about half an hour and the tank fills up quickly.. The battery life is limited and the tank fills up quickly, so it's better for a small home."
      ],
      "text/plain": [
       "<IPython.core.display.Markdown object>"
      ]
     },
     "metadata": {},
     "output_type": "display_data"
    }
   ],
   "source": [
    "printmd(summary)"
   ]
  },
  {
   "cell_type": "code",
   "execution_count": null,
   "id": "58d370c9",
   "metadata": {},
   "outputs": [],
   "source": []
  }
 ],
 "metadata": {
  "kernelspec": {
   "display_name": "t5demo",
   "language": "python",
   "name": "t5demo"
  },
  "language_info": {
   "codemirror_mode": {
    "name": "ipython",
    "version": 3
   },
   "file_extension": ".py",
   "mimetype": "text/x-python",
   "name": "python",
   "nbconvert_exporter": "python",
   "pygments_lexer": "ipython3",
   "version": "3.9.0"
  }
 },
 "nbformat": 4,
 "nbformat_minor": 5
}
